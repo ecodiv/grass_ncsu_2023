{
 "cells": [
  {
   "cell_type": "raw",
   "metadata": {},
   "source": [
    "---\n",
    "title: \"Part 2: Processing data in GRASS\"\n",
    "author: Verónica Andreo\n",
    "date: '`r Sys.Date()`'\n",
    "format: \n",
    "  html: \n",
    "    code-tools: true\n",
    "    code-copy: true\n",
    "    code-fold: false\n",
    "execute: \n",
    "  eval: false\n",
    "---"
   ]
  },
  {
   "cell_type": "markdown",
   "metadata": {},
   "source": [
    "In this notebook we'll go through the processing of MODIS LST daily time series\n",
    "data to derive relevant predictor variables for modeling the distribution of\n",
    "*Aedes albopictus* in Northern Italy. Furthermore, we'll show how to obtain and\n",
    "process occurrence data and background points.\n",
    "\n",
    "Let's first go through some temporal concepts within GRASS GIS...\n",
    "\n",
    "\n",
    "## The TGRASS framework\n",
    "\n",
    "GRASS GIS was the first FOSS GIS that incorporated capabilities to \n",
    "*manage, analyze, process and visualize spatio-temporal data*, as well as \n",
    "the temporal relationships among time series.\n",
    "\n",
    "- TGRASS is fully **based on metadata** and does not duplicate any dataset\n",
    "- **Snapshot** approach, i.e., adds time stamps to maps\n",
    "- A collection of time stamped maps (snapshots) of the same variable are called **space-time datasets** or STDS\n",
    "- Maps in a STDS can have different spatial and temporal extents\n",
    "- Space-time datasets can be composed of raster, raster 3D or vector maps, and so\n",
    "we call them:\n",
    "  - Space time raster datasets (**STRDS**)\n",
    "  - Space time 3D raster datasets (**STR3DS**)\n",
    "  - Space time vector datasets (**STVDS**)\n",
    "\n",
    "\n",
    "## Temporal modules\n",
    "\n",
    "GRASS temporal modules are named and organized following GRASS core naming\n",
    "scheme. In this way, we have:\n",
    "\n",
    "- **t.\\***: General modules to handle STDS of all types\n",
    "- **t.rast.\\***: Modules that deal with STRDS\n",
    "- **t.rast3d.\\***: Modules that deal with STR3DS\n",
    "- **t.vect.\\***: Modules that deal with STVDS\n",
    "\n",
    "\n",
    "### Other TGRASS notions\n",
    "\n",
    "- Time can be defined as **intervals** (start and end time) or **instances** \n",
    "(only start time)\n",
    "- Time can be **absolute** (e.g., 2017-04-06 22:39:49) or **relative** \n",
    "(e.g., 4 years, 90 days)\n",
    "- **Granularity** is the greatest common divisor of the temporal extents \n",
    "(and possible gaps) of all maps in the space-time cube\n",
    "\n",
    "![](https://grass.osgeo.org/grass-stable/manuals/timeline_2D.jpg){width=\"50%\" fig-align=\"center\"}\n",
    "\n",
    "- **Topology** refers to temporal relations between time intervals in a STDS.\n",
    "\n",
    "![](assets/img/studio/temp_relation.png){width=\"35%\" fig-align=\"center\"}\n",
    "\n",
    "### TGRASS framework and workflow\n",
    "\n",
    "![](assets/img/studio/tgrass_flowchart.png){width=\"70%\" fig-align=\"center\"}\n",
    "\n",
    "\n",
    "## Hands-on, let's start\n",
    "\n",
    "So let's start..."
   ]
  },
  {
   "cell_type": "code",
   "execution_count": null,
   "metadata": {},
   "outputs": [],
   "source": [
    "import os\n",
    "import sys\n",
    "import subprocess"
   ]
  },
  {
   "cell_type": "code",
   "execution_count": null,
   "metadata": {},
   "outputs": [],
   "source": [
    "# data directory\n",
    "homedir = os.path.join(os.path.expanduser('~'), \"grass_ncsu_2023\")\n",
    "\n",
    "# GRASS GIS database variables\n",
    "grassbin = \"grass\"\n",
    "grassdata = os.path.join(homedir, \"grassdata\")\n",
    "location = \"nc_spm_08_grass7\"\n",
    "mapset = \"PERMANENT\"\n",
    "\n",
    "# create directories if not already existing\n",
    "os.makedirs(grassdata, exist_ok=True)"
   ]
  },
  {
   "cell_type": "code",
   "execution_count": null,
   "metadata": {},
   "outputs": [],
   "source": [
    "print(subprocess.check_output([grassbin, \"--config\", \"version\"], text=True))"
   ]
  },
  {
   "cell_type": "code",
   "execution_count": null,
   "metadata": {},
   "outputs": [],
   "source": [
    "# Ask GRASS GIS where its Python packages are \n",
    "sys.path.append(\n",
    "    subprocess.check_output([grassbin, \"--config\", \"python_path\"], text=True).strip()\n",
    ")"
   ]
  },
  {
   "cell_type": "code",
   "execution_count": null,
   "metadata": {},
   "outputs": [],
   "source": [
    "# Import the GRASS GIS packages we need\n",
    "import grass.script as gs\n",
    "import grass.jupyter as gj\n",
    "\n",
    "# Start the GRASS GIS Session\n",
    "session = gj.init(grassdata, location, mapset)"
   ]
  },
  {
   "cell_type": "code",
   "execution_count": null,
   "metadata": {},
   "outputs": [],
   "source": [
    "# List vector elements in the PERMANENT mapset\n",
    "gs.list_grouped(type=\"vector\")"
   ]
  },
  {
   "cell_type": "code",
   "execution_count": null,
   "metadata": {},
   "outputs": [],
   "source": [
    "import folium"
   ]
  },
  {
   "cell_type": "code",
   "execution_count": null,
   "metadata": {},
   "outputs": [],
   "source": [
    "# Display newly created vector\n",
    "map1 = gj.Map(width=500, use_region=True)\n",
    "map1.d_vect(map=\"railroads\")\n",
    "map1.show()\n",
    "# python displays are not shown..."
   ]
  },
  {
   "cell_type": "markdown",
   "metadata": {},
   "source": [
    "#### Importing species records"
   ]
  },
  {
   "cell_type": "code",
   "execution_count": 1,
   "metadata": {},
   "outputs": [
    {
     "ename": "SyntaxError",
     "evalue": "invalid decimal literal (3421092368.py, line 8)",
     "output_type": "error",
     "traceback": [
      "\u001b[0;36m  Cell \u001b[0;32mIn [1], line 8\u001b[0;36m\u001b[0m\n\u001b[0;31m    r.colors map=lst_2014.150_avg color=celsius\u001b[0m\n\u001b[0m                             ^\u001b[0m\n\u001b[0;31mSyntaxError\u001b[0m\u001b[0;31m:\u001b[0m invalid decimal literal\n"
     ]
    }
   ],
   "source": [
    "# Import records\n",
    "!v.import input=aedes_albopictus.gpkg \n",
    "  output=aedes_albopictus\n",
    "\n",
    "# List raster maps\n",
    "g.list type=raster\n",
    "r.colors map=lst_2014.150_avg color=celsius\n",
    "\n",
    "# Display records\n",
    "d.mon wx0\n",
    "d.rast lst_2014.150_avg\n",
    "d.vect aedes_albopictus icon=basic/circle \\\n",
    "  size=7 fill_color=black"
   ]
  },
  {
   "cell_type": "markdown",
   "metadata": {},
   "source": [
    "# aca va la figura"
   ]
  },
  {
   "cell_type": "markdown",
   "metadata": {},
   "source": [
    "You can also get the occurrences directly from GBIF into GRASS\n",
    "by means of [v.in.pygbif](https://grass.osgeo.org/grass-stable/manuals/addons/v.in.pygbif.html)."
   ]
  },
  {
   "cell_type": "markdown",
   "metadata": {},
   "source": [
    "#### Creating random background points"
   ]
  },
  {
   "cell_type": "code",
   "execution_count": null,
   "metadata": {},
   "outputs": [],
   "source": [
    "# Create buffer around Aedes albopictus records\n",
    "v.buffer input=aedes_albopictus output=aedes_buffer distance=2000\n",
    "\n",
    "# Set computational region\n",
    "g.region -p raster=lst_2014.001_avg\n",
    "\n",
    "# Create a vector mask to limit background points\n",
    "r.mapcalc expression=\"MASK = if(lst_2014.001_avg, 1, null())\"\n",
    "r.to.vect input=MASK output=vect_mask type=area\n",
    "\n",
    "# Subtract buffers from vector mask\n",
    "v.overlay ainput=vect_mask binput=aedes_buffer operator=xor output=mask_bg\n",
    "\n",
    "# Generate random background points\n",
    "v.random output=background_points npoints=1000 restrict=mask_bg seed=3749"
   ]
  },
  {
   "cell_type": "markdown",
   "metadata": {},
   "source": [
    "<img src=\"assets/img/studio/points_aedes_background.png\" width=\"500px\">"
   ]
  },
  {
   "cell_type": "markdown",
   "metadata": {},
   "source": [
    "See extra slides for details about [*computational region*](#region) and [*masks*](#mask) in GRASS GIS."
   ]
  },
  {
   "cell_type": "markdown",
   "metadata": {},
   "source": [
    "#### Create daily LST STRDS"
   ]
  },
  {
   "cell_type": "code",
   "execution_count": null,
   "metadata": {},
   "outputs": [],
   "source": [
    "# Create time series \n",
    "t.create type=strds temporaltype=absolute \\\n",
    "  output=lst_daily title=\"Average Daily LST\" \\\n",
    "  description=\"Average daily LST in degree C - 2014-2018\"\n",
    "\n",
    "# Get list of maps \n",
    "g.list type=raster pattern=\"lst_201*\" output=list_lst.csv\n",
    "\n",
    "# Register maps in strds  \n",
    "t.register -i input=lst_daily file=list_lst.csv \\\n",
    "  increment=\"1 days\" start=\"2014-01-01\"\n",
    "\n",
    "# Get info about the strds\n",
    "t.info input=lst_daily"
   ]
  },
  {
   "cell_type": "markdown",
   "metadata": {},
   "source": [
    "<img src=\"assets/img/studio/t_info_output.png\" width=\"50%\">\n",
    "\n",
    "\n",
    "See [t.create](https://grass.osgeo.org/grass-stable/manuals/t.create.html) and [t.register](https://grass.osgeo.org/grass-stable/manuals/t.register.html)"
   ]
  },
  {
   "cell_type": "markdown",
   "metadata": {},
   "source": [
    "### Generate environmental variables from LST STRDS\n",
    "\n",
    "#### Long term monthly avg, min and max LST"
   ]
  },
  {
   "cell_type": "code",
   "execution_count": null,
   "metadata": {},
   "outputs": [],
   "source": [
    "for i in $(seq -w 1 12) ; do \n",
    "  t.rast.series input=lst_daily method=average \\\n",
    "    where=\"strftime('%m', start_time)='${i}'\" \\\n",
    "    output=lst_average_${i}\n",
    "  t.rast.series input=lst_daily method=minimum \\\n",
    "    where=\"strftime('%m', start_time)='${i}'\" \\\n",
    "    output=lst_minimum_${i}\n",
    "  t.rast.series input=lst_daily method=maximum \\\n",
    "    where=\"strftime('%m', start_time)='${i}'\" \\\n",
    "    output=lst_maximum_${i}  \n",
    "done"
   ]
  },
  {
   "cell_type": "markdown",
   "metadata": {},
   "source": [
    "<img src=\"assets/img/studio/list_long_term_avg_lst.png\" width=\"70%\">"
   ]
  },
  {
   "cell_type": "markdown",
   "metadata": {},
   "source": [
    "See [t.rast.series](https://grass.osgeo.org/grass-stable/manuals/t.rast.series.html) manual for further details."
   ]
  },
  {
   "cell_type": "markdown",
   "metadata": {},
   "source": [
    "#### Bioclimatic variables"
   ]
  },
  {
   "cell_type": "code",
   "execution_count": null,
   "metadata": {},
   "outputs": [],
   "source": [
    "# Install extension\n",
    "g.extension extension=r.bioclim\n",
    " \n",
    "# Estimate temperature related bioclimatic variables\n",
    "r.bioclim \\\n",
    "  tmin=$(g.list type=raster pattern=\"lst_minimum_??\" separator=\",\") \\\n",
    "  tmax=$(g.list type=raster pattern=\"lst_maximum_??\" separator=\",\") \\\n",
    "  tavg=$(g.list type=raster pattern=\"lst_average_??\" separator=\",\") \\\n",
    "  output=worldclim_ \n",
    "\n",
    "# List output maps\n",
    "g.list type=raster pattern=\"worldclim*\""
   ]
  },
  {
   "cell_type": "markdown",
   "metadata": {},
   "source": [
    "<img src=\"assets/img/studio/list_worldclim_lst.png\" width=\"80%\">\n",
    "\n",
    "\n",
    "<img src=\"assets/img/studio/bio1.png\" width=\"50%\">"
   ]
  },
  {
   "cell_type": "markdown",
   "metadata": {},
   "source": [
    "See [r.bioclim](https://grass.osgeo.org/grass-stable/manuals/addons/r.bioclim.html) manual for further details."
   ]
  },
  {
   "cell_type": "markdown",
   "metadata": {},
   "source": [
    "#### Spring warming"
   ]
  },
  {
   "cell_type": "code",
   "execution_count": null,
   "metadata": {},
   "outputs": [],
   "source": [
    "# Annual spring warming: slope(daily Tmean february-march-april)\n",
    "t.rast.aggregate input=lst_daily output=annual_spring_warming \\\n",
    "  basename=spring_warming suffix=gran \\\n",
    "  method=slope granularity=\"1 years\" \\\n",
    "  where=\"strftime('%m',start_time)='02' or \\\n",
    "         strftime('%m',start_time)='03' or \\\n",
    "         strftime('%m', start_time)='04'\"\n",
    "\n",
    "# Average spring warming\n",
    "t.rast.series input=annual_spring_warming \\\n",
    "  output=avg_spring_warming \\\n",
    "  method=average"
   ]
  },
  {
   "cell_type": "markdown",
   "metadata": {},
   "source": [
    "<img src=\"assets/img/studio/spring_warming.png\" width=\"50%\">"
   ]
  },
  {
   "cell_type": "markdown",
   "metadata": {},
   "source": [
    "See [t.rast.aggregate](https://grass.osgeo.org/grass-stable/manuals/t.rast.aggregate.html) manual."
   ]
  },
  {
   "cell_type": "markdown",
   "metadata": {},
   "source": [
    "#### Autumnal cooling"
   ]
  },
  {
   "cell_type": "code",
   "execution_count": null,
   "metadata": {},
   "outputs": [],
   "source": [
    "# Annual autumnal cooling: slope(daily Tmean august-september-october)\n",
    "t.rast.aggregate input=lst_daily output=annual_autumnal_cooling \\\n",
    "  basename=autumnal_cooling suffix=gran \\\n",
    "  method=slope granularity=\"1 years\" \\\n",
    "  where=\"strftime('%m',start_time)='08' or \\\n",
    "         strftime('%m',start_time)='09' or \\\n",
    "         strftime('%m', start_time)='10'\"\n",
    "\n",
    "# Average autumnal cooling\n",
    "t.rast.series input=annual_autumnal_cooling \\\n",
    "  output=avg_autumnal_cooling \\\n",
    "  method=average"
   ]
  },
  {
   "cell_type": "markdown",
   "metadata": {},
   "source": [
    "<img src=\"assets/img/studio/autumnal_cooling.png\" width=\"51%\">"
   ]
  },
  {
   "cell_type": "markdown",
   "metadata": {},
   "source": [
    "#### Number of days with LSTmean >= 20 and <= 30"
   ]
  },
  {
   "cell_type": "code",
   "execution_count": null,
   "metadata": {},
   "outputs": [],
   "source": [
    "# Keep only pixels meeting the condition\n",
    "t.rast.algebra -n \\\n",
    "  expression=\"tmean_higher20_lower30 = if(lst_daily >= 20.0 && lst_daily <= 30.0, 1, null())\" \\\n",
    "  basename=tmean_higher20_lower30 suffix=gran nproc=7\n",
    "\n",
    "# Count how many times per year the condition is met\n",
    "t.rast.aggregate input=tmean_higher20_lower30 \\\n",
    "  output=count_tmean_higher20_lower30 \\\n",
    "  basename=tmean_higher20_lower30 suffix=gran \\\n",
    "  method=count granularity=\"1 years\"\n",
    "\n",
    "# Average number of days with LSTmean >= 20 and <= 30\n",
    "t.rast.series input=count_tmean_higher20_lower30 \\\n",
    "  output=avg_count_tmean_higher20_lower30 method=average"
   ]
  },
  {
   "cell_type": "markdown",
   "metadata": {},
   "source": [
    "<img src=\"assets/img/studio/count_days_higher20_lower30.png\" width=\"50%\">"
   ]
  },
  {
   "cell_type": "markdown",
   "metadata": {},
   "source": [
    "See [t.rast.algebra](https://grass.osgeo.org/grass-stable/manuals/t.rast.algebra.html) manual for further details."
   ]
  },
  {
   "cell_type": "markdown",
   "metadata": {},
   "source": [
    "#### Number of consecutive days with LSTmean <= -2.0"
   ]
  },
  {
   "cell_type": "code",
   "execution_count": null,
   "metadata": {},
   "outputs": [],
   "source": [
    "# Create annual mask\n",
    "t.rast.aggregate input=lst_daily output=annual_mask \\\n",
    "  basename=annual_mask suffix=gran \\\n",
    "  granularity=\"1 year\" method=count\n",
    "\n",
    "# Replace values by zero\n",
    "t.rast.mapcalc input=annual_mask output=annual_mask_0 \\\n",
    "  expression=\"if(annual_mask, 0)\" \\\n",
    "  basename=annual_mask_0\n",
    "\n",
    "# Calculate consecutive days with LST <= -2.0\n",
    "t.rast.algebra \\\n",
    "  expression=\"lower_m2_consec_days = annual_mask_0 {+,contains,l} \\\n",
    "  if(lst_daily <= -2.0 && lst_daily[-1] <= -2.0 || \\\n",
    "  lst_daily[1] <= -2.0 && lst_daily <= -2.0, 1, 0)\" \\\n",
    "  basename=lower_m2_ suffix=gran nproc=7"
   ]
  },
  {
   "cell_type": "code",
   "execution_count": null,
   "metadata": {},
   "outputs": [],
   "source": [
    "# Inspect values\n",
    "t.rast.list input=lower_m2_consec_days \\\n",
    "  columns=name,start_time,end_time,min,max\n",
    "\n",
    "# Median number of consecutive days with LST <= -2\n",
    "t.rast.series input=lower_m2_consec_days \\\n",
    "  output=median_lower_m2_consec_days method=median"
   ]
  },
  {
   "cell_type": "markdown",
   "metadata": {},
   "source": [
    "<img src=\"assets/img/studio/median_days_lower_m2.png\" width=\"60%\">\n",
    "\n",
    "\n",
    "We have all these maps within GRASS, how do we connect with R now? Let's move to #part2"
   ]
  }
 ],
 "metadata": {
  "kernelspec": {
   "display_name": "Python 3 (ipykernel)",
   "language": "python",
   "name": "python3"
  },
  "language_info": {
   "codemirror_mode": {
    "name": "ipython",
    "version": 3
   },
   "file_extension": ".py",
   "mimetype": "text/x-python",
   "name": "python",
   "nbconvert_exporter": "python",
   "pygments_lexer": "ipython3",
   "version": "3.10.10"
  }
 },
 "nbformat": 4,
 "nbformat_minor": 4
}
