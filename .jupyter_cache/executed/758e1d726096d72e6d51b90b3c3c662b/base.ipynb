{
 "cells": [
  {
   "cell_type": "code",
   "execution_count": 1,
   "id": "5d97a9cc",
   "metadata": {},
   "outputs": [],
   "source": [
    "\n",
    "# imports\n",
    "import os\n",
    "import sys\n",
    "import types\n",
    "import json\n",
    "\n",
    "# figure size/format\n",
    "fig_width = 7\n",
    "fig_height = 5\n",
    "fig_format = 'retina'\n",
    "fig_dpi = 96\n",
    "\n",
    "# matplotlib defaults / format\n",
    "try:\n",
    "  import matplotlib.pyplot as plt\n",
    "  plt.rcParams['figure.figsize'] = (fig_width, fig_height)\n",
    "  plt.rcParams['figure.dpi'] = fig_dpi\n",
    "  plt.rcParams['savefig.dpi'] = fig_dpi\n",
    "  from IPython.display import set_matplotlib_formats\n",
    "  set_matplotlib_formats(fig_format)\n",
    "except Exception:\n",
    "  pass\n",
    "\n",
    "# plotly use connected mode\n",
    "try:\n",
    "  import plotly.io as pio\n",
    "  pio.renderers.default = \"notebook_connected\"\n",
    "except Exception:\n",
    "  pass\n",
    "\n",
    "# enable pandas latex repr when targeting pdfs\n",
    "try:\n",
    "  import pandas as pd\n",
    "  if fig_format == 'pdf':\n",
    "    pd.set_option('display.latex.repr', True)\n",
    "except Exception:\n",
    "  pass\n",
    "\n",
    "\n",
    "\n",
    "# output kernel dependencies\n",
    "kernel_deps = dict()\n",
    "for module in list(sys.modules.values()):\n",
    "  # Some modules play games with sys.modules (e.g. email/__init__.py\n",
    "  # in the standard library), and occasionally this can cause strange\n",
    "  # failures in getattr.  Just ignore anything that's not an ordinary\n",
    "  # module.\n",
    "  if not isinstance(module, types.ModuleType):\n",
    "    continue\n",
    "  path = getattr(module, \"__file__\", None)\n",
    "  if not path:\n",
    "    continue\n",
    "  if path.endswith(\".pyc\") or path.endswith(\".pyo\"):\n",
    "    path = path[:-1]\n",
    "  if not os.path.exists(path):\n",
    "    continue\n",
    "  kernel_deps[path] = os.stat(path).st_mtime\n",
    "print(json.dumps(kernel_deps))\n",
    "\n",
    "# set run_path if requested\n",
    "if r'/home/veroandreo/repos/github/grass_ncsu_2023':\n",
    "  os.chdir(r'/home/veroandreo/repos/github/grass_ncsu_2023')\n",
    "\n",
    "# reset state\n",
    "%reset\n",
    "\n",
    "def ojs_define(**kwargs):\n",
    "  import json\n",
    "  try:\n",
    "    # IPython 7.14 preferred import\n",
    "    from IPython.display import display, HTML\n",
    "  except:\n",
    "    from IPython.core.display import display, HTML\n",
    "\n",
    "  # do some minor magic for convenience when handling pandas\n",
    "  # dataframes\n",
    "  def convert(v):\n",
    "    try:\n",
    "      import pandas as pd\n",
    "    except ModuleNotFoundError: # don't do the magic when pandas is not available\n",
    "      return v\n",
    "    if type(v) == pd.Series:\n",
    "      v = pd.DataFrame(v)\n",
    "    if type(v) == pd.DataFrame:\n",
    "      j = json.loads(v.T.to_json(orient='split'))\n",
    "      return dict((k,v) for (k,v) in zip(j[\"index\"], j[\"data\"]))\n",
    "    else:\n",
    "      return v\n",
    "  \n",
    "  v = dict(contents=list(dict(name=key, value=convert(value)) for (key, value) in kwargs.items()))\n",
    "  display(HTML('<script type=\"ojs-define\">' + json.dumps(v) + '</script>'), metadata=dict(ojs_define = True))\n",
    "globals()[\"ojs_define\"] = ojs_define\n"
   ]
  },
  {
   "cell_type": "code",
   "execution_count": 2,
   "id": "ec4e8d43",
   "metadata": {},
   "outputs": [],
   "source": [
    "import os\n",
    "\n",
    "# Data directory\n",
    "homedir = os.path.join(os.path.expanduser('~'), \"grass_ncsu_2023\")\n",
    "\n",
    "# GRASS GIS database variables\n",
    "#grassbin = \"grassdev\"\n",
    "grassbin = \"grass\"\n",
    "grassdata = os.path.join(homedir, \"grassdata\")\n",
    "location = \"eu_laea\"\n",
    "mapset = \"italy_LST_daily\""
   ]
  },
  {
   "cell_type": "code",
   "execution_count": 3,
   "id": "a70b7127",
   "metadata": {},
   "outputs": [],
   "source": [
    "# Check the GRASS GIS installation\n",
    "import subprocess\n",
    "print(subprocess.check_output([grassbin, \"--config\", \"version\"], text=True))"
   ]
  },
  {
   "cell_type": "code",
   "execution_count": 4,
   "id": "7c9b1edb",
   "metadata": {},
   "outputs": [],
   "source": [
    "# Ask GRASS GIS where its Python packages are \n",
    "import sys\n",
    "sys.path.append(\n",
    "    subprocess.check_output([grassbin, \"--config\", \"python_path\"], text=True).strip()\n",
    ")"
   ]
  },
  {
   "cell_type": "code",
   "execution_count": 5,
   "id": "7783069b",
   "metadata": {},
   "outputs": [],
   "source": [
    "# Import the GRASS GIS packages we need\n",
    "import grass.script as gs\n",
    "import grass.jupyter as gj\n",
    "\n",
    "# Start the GRASS GIS Session\n",
    "session = gj.init(grassdata, location, mapset)"
   ]
  },
  {
   "cell_type": "code",
   "execution_count": 6,
   "id": "fc7cdb0c",
   "metadata": {},
   "outputs": [],
   "source": [
    "# List vector elements\n",
    "gs.list_grouped(type=\"vector\")['italy_LST_daily']"
   ]
  },
  {
   "cell_type": "code",
   "execution_count": 7,
   "id": "c9a46092",
   "metadata": {},
   "outputs": [],
   "source": [
    "# Display vector map\n",
    "it_map = gj.Map(width=500, use_region=True)\n",
    "it_map.d_vect(map=\"italy_borders_0\")\n",
    "it_map.show()"
   ]
  },
  {
   "cell_type": "code",
   "execution_count": 8,
   "id": "4a9ac7cf",
   "metadata": {},
   "outputs": [],
   "source": [
    "# List raster elements\n",
    "gs.list_grouped(type=\"raster\", pattern=\"lst*\")['italy_LST_daily']"
   ]
  },
  {
   "cell_type": "code",
   "execution_count": 9,
   "id": "3f23557b",
   "metadata": {},
   "outputs": [],
   "source": [
    "# Display raster map with interactive class\n",
    "lst_map = gj.InteractiveMap(width = 500, use_region=True, tiles=\"OpenStreetMap\")\n",
    "lst_map.add_raster(\"lst_2014.005_avg\")\n",
    "lst_map.add_layer_control(position = \"bottomright\")\n",
    "lst_map.show()"
   ]
  },
  {
   "cell_type": "code",
   "execution_count": 10,
   "id": "3f97a5d2",
   "metadata": {},
   "outputs": [],
   "source": [
    "# Import mosquito records\n",
    "gs.run_command(\"v.import\",\n",
    "               input=os.path.join(homedir,\"aedes_albopictus.gpkg\"),\n",
    "               output=\"aedes_albopictus\")"
   ]
  },
  {
   "cell_type": "code",
   "execution_count": 11,
   "id": "0c576751",
   "metadata": {},
   "outputs": [],
   "source": [
    "# Display raster map with interactive class\n",
    "lst_map = gj.InteractiveMap(width = 500, use_region=True, tiles=\"OpenStreetMap\")\n",
    "lst_map.add_raster(\"lst_2014.005_avg\")\n",
    "lst_map.add_vector(\"aedes_albopictus\")\n",
    "lst_map.add_layer_control(position = \"bottomright\")\n",
    "lst_map.show()"
   ]
  },
  {
   "cell_type": "code",
   "execution_count": 12,
   "id": "7a521025",
   "metadata": {},
   "outputs": [],
   "source": [
    "# Set computational region\n",
    "# region = gs.parse_command(\"g.region\", raster=\"lst_2014.001_avg\", flags=\"g\")\n",
    "# region"
   ]
  },
  {
   "cell_type": "code",
   "execution_count": 13,
   "id": "e14cd737",
   "metadata": {},
   "outputs": [],
   "source": [
    "# Install extension (requires pygbif: pip install pygbif)\n",
    "# gs.run_command(\"g.extension\",\n",
    "#                extension=\"v.in.pygbif\")"
   ]
  },
  {
   "cell_type": "code",
   "execution_count": 14,
   "id": "8b882ab1",
   "metadata": {},
   "outputs": [],
   "source": [
    "# Import data from GBIF\n",
    "# gs.run_command(\"v.in.pygbif\", \n",
    "#                output=\"aedes_albopictus\",\n",
    "#                taxa=\"Aedes albopictus\",\n",
    "#                date_from=\"2014-01-01\",\n",
    "#                date_to=\"2018-12-31\")"
   ]
  },
  {
   "cell_type": "code",
   "execution_count": 15,
   "id": "3ecc1708",
   "metadata": {},
   "outputs": [],
   "source": [
    "# Create buffer around Aedes albopictus records\n",
    "gs.run_command(\"v.buffer\",\n",
    "               input=\"aedes_albopictus\",\n",
    "               output=\"aedes_buffer\",\n",
    "               distance=2000)"
   ]
  },
  {
   "cell_type": "code",
   "execution_count": 16,
   "id": "dc2ba970",
   "metadata": {},
   "outputs": [],
   "source": [
    "# Set computational region\n",
    "region = gs.parse_command(\"g.region\", raster=\"lst_2014.001_avg\", flags=\"g\")\n",
    "region"
   ]
  },
  {
   "cell_type": "code",
   "execution_count": 17,
   "id": "babbfa73",
   "metadata": {},
   "outputs": [],
   "source": [
    "# Create a vector mask to limit background points\n",
    "expression=\"MASK = if(lst_2014.001_avg, 1, null())\"\n",
    "gs.raster.mapcalc(exp=expression)\n",
    "\n",
    "gs.run_command(\"r.to.vect\", \n",
    "               input=\"MASK\",\n",
    "               output=\"vect_mask\",\n",
    "               type=\"area\")"
   ]
  },
  {
   "cell_type": "code",
   "execution_count": 18,
   "id": "3c38430a",
   "metadata": {},
   "outputs": [],
   "source": [
    "# Subtract buffers from vector mask\n",
    "gs.run_command(\"v.overlay\",\n",
    "               ainput=\"vect_mask\",\n",
    "               binput=\"aedes_buffer\",\n",
    "               operator=\"xor\",\n",
    "               output=\"mask_bg\")"
   ]
  },
  {
   "cell_type": "code",
   "execution_count": 19,
   "id": "030a9c43",
   "metadata": {},
   "outputs": [],
   "source": [
    "# Display raster map with interactive class\n",
    "mask_map = gj.InteractiveMap(width = 500, use_region=True, tiles=\"OpenStreetMap\")\n",
    "mask_map.add_vector(\"mask_bg\")\n",
    "mask_map.add_layer_control(position = \"bottomright\")\n",
    "mask_map.show()"
   ]
  },
  {
   "cell_type": "code",
   "execution_count": 20,
   "id": "d4027f88",
   "metadata": {},
   "outputs": [],
   "source": [
    "# Generate random background points\n",
    "gs.run_command(\"v.random\",\n",
    "               output=\"background_points\",\n",
    "               npoints=1000,\n",
    "               restrict=\"mask_bg\",\n",
    "               seed=3749)"
   ]
  },
  {
   "cell_type": "code",
   "execution_count": 21,
   "id": "ac27d21b",
   "metadata": {},
   "outputs": [],
   "source": [
    "# Display vector map\n",
    "pb_map = gj.Map(width=500, use_region=True)\n",
    "pb_map.d_rast(map=\"lst_2014.005_avg\")\n",
    "pb_map.d_vect(map=\"italy_borders_0\", type=\"boundary\")\n",
    "pb_map.d_vect(map=\"background_points\")\n",
    "pb_map.d_vect(map=\"aedes_albopictus\", icon=\"basic/diamond\", fill_color=\"red\", size=8)\n",
    "pb_map.show()"
   ]
  },
  {
   "cell_type": "code",
   "execution_count": 22,
   "id": "ca10f972",
   "metadata": {},
   "outputs": [],
   "source": [
    "# Create time series \n",
    "gs.run_command(\"t.create\",\n",
    "               type=\"strds\",\n",
    "               temporaltype=\"absolute\",\n",
    "               output=\"lst_daily\",\n",
    "               title=\"Average Daily LST\",\n",
    "               description=\"Average daily LST in degree C - 2014-2018\")"
   ]
  },
  {
   "cell_type": "code",
   "execution_count": 23,
   "id": "3f1edbf0",
   "metadata": {},
   "outputs": [],
   "source": [
    "# Check it is created\n",
    "gs.run_command(\"t.list\",\n",
    "              type=\"strds\")"
   ]
  },
  {
   "cell_type": "code",
   "execution_count": 24,
   "id": "de25e808",
   "metadata": {},
   "outputs": [],
   "source": [
    "# Get list of maps \n",
    "map_list=gs.list_grouped(type=\"raster\", pattern=\"lst_201*\")['italy_LST_daily']\n",
    "map_list"
   ]
  },
  {
   "cell_type": "code",
   "execution_count": 25,
   "id": "30ed0117",
   "metadata": {},
   "outputs": [],
   "source": [
    "# Register maps in strds  \n",
    "gs.run_command(\"t.register\", \n",
    "               input=\"lst_daily\",\n",
    "               maps=map_list,\n",
    "               increment=\"1 days\",\n",
    "               start=\"2014-01-01\", \n",
    "               flags=\"i\")"
   ]
  },
  {
   "cell_type": "code",
   "execution_count": 26,
   "id": "79368b86",
   "metadata": {},
   "outputs": [],
   "source": [
    "# Get info about the strds\n",
    "gs.run_command(\"t.info\",\n",
    "               input=\"lst_daily\")"
   ]
  },
  {
   "cell_type": "code",
   "execution_count": 27,
   "id": "15012025",
   "metadata": {},
   "outputs": [],
   "source": [
    "# January average LST\n",
    "gs.run_command(\"t.rast.series\",\n",
    "               input=\"lst_daily\",\n",
    "               method=\"average\",\n",
    "               where=\"strftime('%m', start_time)='01'\",\n",
    "               output=\"lst_average_jan\")"
   ]
  },
  {
   "cell_type": "code",
   "execution_count": 28,
   "id": "0ecb1343",
   "metadata": {},
   "outputs": [],
   "source": [
    "# Get map info and check values\n",
    "gs.raster_info(\"lst_average_jan\")"
   ]
  },
  {
   "cell_type": "code",
   "execution_count": 29,
   "id": "2cb01783",
   "metadata": {},
   "outputs": [],
   "source": [
    "# Define list of months as required\n",
    "months=['{0:02d}'.format(m) for m in range(1,13)]\n",
    "\n",
    "for m in months:\n",
    "    gs.run_command(\"t.rast.list\",\n",
    "                   input=\"lst_daily\",\n",
    "                   where=f\"strftime('%m', start_time)='{m}'\")"
   ]
  },
  {
   "cell_type": "code",
   "execution_count": 30,
   "id": "c4d55ba7",
   "metadata": {},
   "outputs": [],
   "source": [
    "# Now we estimate the climatologies for all months and methods\n",
    "months=['{0:02d}'.format(m) for m in range(1,13)]\n",
    "methods=[\"average\",\"minimum\",\"maximum\"]\n",
    "\n",
    "for m in months:\n",
    "    for me in methods:\n",
    "        gs.run_command(\"t.rast.series\", \n",
    "                       input=\"lst_daily\",\n",
    "                       method=me,\n",
    "                       where=f\"strftime('%m', start_time)='{m}'\",\n",
    "                       output=\"lst_{}_{}\".format(me,m))"
   ]
  },
  {
   "cell_type": "code",
   "execution_count": 31,
   "id": "d39d162c",
   "metadata": {},
   "outputs": [],
   "source": [
    "# List newly created maps\n",
    "gs.list_grouped(type=\"raster\", pattern=\"*{average,minimum,maximum}*\")['italy_LST_daily']"
   ]
  },
  {
   "cell_type": "code",
   "execution_count": 32,
   "id": "1b2f3983",
   "metadata": {},
   "outputs": [],
   "source": [
    "# Remove lst_average_jan\n",
    "gs.run_command(\"g.remove\", type=\"raster\", name=\"lst_average_jan\", flags=\"f\")"
   ]
  },
  {
   "cell_type": "code",
   "execution_count": 33,
   "id": "4efc45b3",
   "metadata": {},
   "outputs": [],
   "source": [
    "# Install extension\n",
    "gs.run_command(\"g.extension\",\n",
    "               extension=\"r.bioclim\")"
   ]
  },
  {
   "cell_type": "code",
   "execution_count": 34,
   "id": "faf346e7",
   "metadata": {},
   "outputs": [],
   "source": [
    "# Get lists of maps needed\n",
    "tmin=gs.list_grouped(type=\"raster\", pattern=\"lst_minimum_??\")['italy_LST_daily']\n",
    "tmax=gs.list_grouped(type=\"raster\", pattern=\"lst_maximum_??\")['italy_LST_daily']\n",
    "tavg=gs.list_grouped(type=\"raster\", pattern=\"lst_average_??\")['italy_LST_daily']\n",
    "\n",
    "print(tmin,tmax,tavg)"
   ]
  },
  {
   "cell_type": "code",
   "execution_count": 35,
   "id": "9c8f1c02",
   "metadata": {},
   "outputs": [],
   "source": [
    "# Estimate temperature related bioclimatic variables\n",
    "gs.run_command(\"r.bioclim\", \n",
    "               tmin=tmin, \n",
    "               tmax=tmax,\n",
    "               tavg=tavg, \n",
    "               output=\"worldclim_\") "
   ]
  },
  {
   "cell_type": "code",
   "execution_count": 36,
   "id": "edf0fbc9",
   "metadata": {},
   "outputs": [],
   "source": [
    "# List output maps\n",
    "gs.list_grouped(type=\"raster\", pattern=\"worldclim*\")['italy_LST_daily']"
   ]
  },
  {
   "cell_type": "code",
   "execution_count": 37,
   "id": "f422445b",
   "metadata": {},
   "outputs": [],
   "source": [
    "# Display raster map with interactive class\n",
    "bio_map = gj.InteractiveMap(width = 500, use_region=True, tiles=\"OpenStreetMap\")\n",
    "bio_map.add_raster(\"worldclim_bio01\")\n",
    "bio_map.add_raster(\"worldclim_bio02\")\n",
    "bio_map.add_layer_control(position = \"bottomright\")\n",
    "bio_map.show()"
   ]
  },
  {
   "cell_type": "code",
   "execution_count": 38,
   "id": "8d00b645",
   "metadata": {},
   "outputs": [],
   "source": [
    "# Define list of months\n",
    "months=['{0:02d}'.format(m) for m in range(2,5)]"
   ]
  },
  {
   "cell_type": "code",
   "execution_count": 39,
   "id": "6551fa5f",
   "metadata": {},
   "outputs": [],
   "source": [
    "# Annual spring warming\n",
    "gs.run_command(\"t.rast.aggregate\",\n",
    "               input=\"lst_daily\",\n",
    "               output=\"annual_spring_warming\",\n",
    "               basename=\"spring_warming\",\n",
    "               suffix=\"gran\",\n",
    "               method=\"slope\",\n",
    "               granularity=\"1 years\",\n",
    "               where=f\"strftime('%m',start_time)='{months[0]}' or strftime('%m',start_time)='{months[1]}' or strftime('%m', start_time)='{months[2]}'\")"
   ]
  },
  {
   "cell_type": "code",
   "execution_count": 40,
   "id": "0901cc0f",
   "metadata": {},
   "outputs": [],
   "source": [
    "# Check raster maps in the STRDS\n",
    "gs.run_command(\"t.rast.list\", input=\"annual_spring_warming\")"
   ]
  },
  {
   "cell_type": "code",
   "execution_count": 41,
   "id": "f5a2519f",
   "metadata": {},
   "outputs": [],
   "source": [
    "# Average spring warming\n",
    "gs.run_command(\"t.rast.series\",\n",
    "               input=\"annual_spring_warming\",\n",
    "               output=\"avg_spring_warming\",\n",
    "               method=\"average\")"
   ]
  },
  {
   "cell_type": "code",
   "execution_count": 42,
   "id": "8b8e89d2",
   "metadata": {},
   "outputs": [],
   "source": [
    "# Display raster map with interactive class\n",
    "auc_map = gj.InteractiveMap(width = 500, use_region=True, tiles=\"OpenStreetMap\")\n",
    "auc_map.add_raster(\"avg_spring_warming\")\n",
    "auc_map.add_layer_control(position = \"bottomright\")\n",
    "auc_map.show()"
   ]
  },
  {
   "cell_type": "code",
   "execution_count": 43,
   "id": "9846d053",
   "metadata": {},
   "outputs": [],
   "source": [
    "# Define list of months\n",
    "months=['{0:02d}'.format(m) for m in range(8,11)]"
   ]
  },
  {
   "cell_type": "code",
   "execution_count": 44,
   "id": "4942f6f5",
   "metadata": {},
   "outputs": [],
   "source": [
    "# Annual autumnal cooling\n",
    "gs.run_command(\"t.rast.aggregate\",\n",
    "               input=\"lst_daily\",\n",
    "               output=\"annual_autumnal_cooling\",\n",
    "               basename=\"autumnal_cooling\",\n",
    "               suffix=\"gran\",\n",
    "               method=\"slope\",\n",
    "               granularity=\"1 years\",\n",
    "               where=f\"strftime('%m',start_time)='{months[0]}' or strftime('%m',start_time)='{months[1]}' or strftime('%m', start_time)='{months[2]}'\")"
   ]
  },
  {
   "cell_type": "code",
   "execution_count": 45,
   "id": "14ac8704",
   "metadata": {},
   "outputs": [],
   "source": [
    "# Check raster maps in the STRDS\n",
    "gs.run_command(\"t.rast.list\", input=\"annual_autumnal_cooling\")"
   ]
  },
  {
   "cell_type": "code",
   "execution_count": 46,
   "id": "5ee75f4c",
   "metadata": {},
   "outputs": [],
   "source": [
    "# Average autumnal cooling\n",
    "gs.run_command(\"t.rast.series\",\n",
    "               input=\"annual_autumnal_cooling\",\n",
    "               output=\"avg_autumnal_cooling\",\n",
    "               method=\"average\")"
   ]
  },
  {
   "cell_type": "code",
   "execution_count": 47,
   "id": "e9dab8c3",
   "metadata": {},
   "outputs": [],
   "source": [
    "# Display raster map with interactive class\n",
    "spw_map = gj.InteractiveMap(width = 500, use_region=True, tiles=\"OpenStreetMap\")\n",
    "spw_map.add_raster(\"avg_autumnal_cooling\")\n",
    "spw_map.add_layer_control(position = \"bottomright\")\n",
    "spw_map.show()"
   ]
  },
  {
   "cell_type": "code",
   "execution_count": 48,
   "id": "6c0e1de3",
   "metadata": {},
   "outputs": [],
   "source": [
    "# Keep only pixels meeting the condition\n",
    "expression=\"tmean_higher20_lower30 = if(lst_daily >= 20.0 && lst_daily <= 30.0, 1, null())\"\n",
    "\n",
    "gs.run_command(\"t.rast.algebra\",\n",
    "               expression=expression, \n",
    "               basename=\"tmean_higher20_lower30\",\n",
    "               suffix=\"gran\",\n",
    "               nproc=7, \n",
    "               flags=\"n\")"
   ]
  },
  {
   "cell_type": "code",
   "execution_count": 49,
   "id": "093469f9",
   "metadata": {},
   "outputs": [],
   "source": [
    "# Count how many times per year the condition is met\n",
    "gs.run_command(\"t.rast.aggregate\",\n",
    "               input=\"tmean_higher20_lower30\", \n",
    "               output=\"count_tmean_higher20_lower30\",\n",
    "               basename=\"tmean_higher20_lower30\",\n",
    "               suffix=\"gran\",\n",
    "               method=\"count\",\n",
    "               granularity=\"1 years\")"
   ]
  },
  {
   "cell_type": "code",
   "execution_count": 50,
   "id": "3b3b5697",
   "metadata": {},
   "outputs": [],
   "source": [
    "# Check raster maps in the STRDS\n",
    "gs.run_command(\"t.rast.list\", \n",
    "               input=\"count_tmean_higher20_lower30\", \n",
    "               columns=\"name,start_time,min,max\")"
   ]
  },
  {
   "cell_type": "code",
   "execution_count": 51,
   "id": "b2997e96",
   "metadata": {},
   "outputs": [],
   "source": [
    "# Average number of days with LSTmean >= 20 and <= 30\n",
    "gs.run_command(\"t.rast.series\",\n",
    "               input=\"count_tmean_higher20_lower30\",\n",
    "               output=\"avg_count_tmean_higher20_lower30\",\n",
    "               method=\"average\")"
   ]
  },
  {
   "cell_type": "code",
   "execution_count": 52,
   "id": "1b602d95",
   "metadata": {},
   "outputs": [],
   "source": [
    "# Display raster map with interactive class\n",
    "h20_map = gj.InteractiveMap(width = 500, use_region=True, tiles=\"OpenStreetMap\")\n",
    "h20_map.add_raster(\"avg_count_tmean_higher20_lower30\")\n",
    "h20_map.add_layer_control(position = \"bottomright\")\n",
    "h20_map.show()"
   ]
  },
  {
   "cell_type": "code",
   "execution_count": 53,
   "id": "2fefe7a7",
   "metadata": {},
   "outputs": [],
   "source": [
    "# Create annual mask\n",
    "gs.run_command(\"t.rast.aggregate\",\n",
    "               input=\"lst_daily\",\n",
    "               output=\"annual_mask\",\n",
    "               basename=\"annual_mask\",\n",
    "               suffix=\"gran\",\n",
    "               granularity=\"1 year\",\n",
    "               method=\"count\")"
   ]
  },
  {
   "cell_type": "code",
   "execution_count": 54,
   "id": "5b5bc879",
   "metadata": {},
   "outputs": [],
   "source": [
    "# Replace values by zero\n",
    "expression=\"if(annual_mask, 0)\"\n",
    "\n",
    "gs.run_command(\"t.rast.mapcalc\",\n",
    "               input=\"annual_mask\",\n",
    "               output=\"annual_mask_0\",\n",
    "               expression=expression,\n",
    "               basename=\"annual_mask_0\")"
   ]
  },
  {
   "cell_type": "code",
   "execution_count": 55,
   "id": "efda61e8",
   "metadata": {},
   "outputs": [],
   "source": [
    "# Calculate consecutive days with LST <= -10.0\n",
    "expression=\"lower_m10_consec_days = annual_mask_0 {+,contains,l} if(lst_daily <= -10.0 && lst_daily[-1] <= -10.0 || lst_daily[1] <= -10.0 && lst_daily <= -10.0, 1, 0)\"\n",
    "\n",
    "gs.run_command(\"t.rast.algebra\",\n",
    "               expression=expression,\n",
    "               basename=\"lower_m10_\",\n",
    "               suffix=\"gran\",\n",
    "               nproc=7)"
   ]
  },
  {
   "cell_type": "code",
   "execution_count": 56,
   "id": "d1e0d6b3",
   "metadata": {},
   "outputs": [],
   "source": [
    "# Inspect values\n",
    "gs.run_command(\"t.rast.list\",\n",
    "               input=\"lower_m10_consec_days\",\n",
    "               columns=\"name,start_time,min,max\")"
   ]
  },
  {
   "cell_type": "code",
   "execution_count": 57,
   "id": "a2cd6514",
   "metadata": {},
   "outputs": [],
   "source": [
    "# Median number of consecutive days with LST <= -10\n",
    "gs.run_command(\"t.rast.series\",\n",
    "               input=\"lower_m10_consec_days\",\n",
    "               output=\"median_lower_m10_consec_days\",\n",
    "               method=\"median\")"
   ]
  },
  {
   "cell_type": "code",
   "execution_count": 58,
   "id": "6092906d",
   "metadata": {},
   "outputs": [],
   "source": [
    "# Display raster map with interactive class\n",
    "lt10_map = gj.InteractiveMap(width = 500, use_region=True, tiles=\"OpenStreetMap\")\n",
    "lt10_map.add_raster(\"median_lower_m10_consec_days\")\n",
    "lt10_map.add_layer_control(position = \"bottomright\")\n",
    "lt10_map.show()"
   ]
  }
 ],
 "metadata": {
  "kernelspec": {
   "display_name": "Python 3 (ipykernel)",
   "language": "python",
   "name": "python3"
  },
  "language_info": {
   "codemirror_mode": {
    "name": "ipython",
    "version": 3
   },
   "file_extension": ".py",
   "mimetype": "text/x-python",
   "name": "python",
   "nbconvert_exporter": "python",
   "pygments_lexer": "ipython3",
   "version": "3.10.11"
  }
 },
 "nbformat": 4,
 "nbformat_minor": 5
}